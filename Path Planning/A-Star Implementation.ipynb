{
 "cells": [
  {
   "cell_type": "markdown",
   "metadata": {},
   "source": [
    "# A* Implementation "
   ]
  },
  {
   "cell_type": "code",
   "execution_count": 1,
   "metadata": {},
   "outputs": [],
   "source": [
    "import matplotlib.pyplot as plt\n",
    "from matplotlib.collections import PatchCollection\n",
    "import matplotlib.patches as Patch\n",
    "import matplotlib.lines as Lines\n",
    "import numpy as np"
   ]
  },
  {
   "cell_type": "code",
   "execution_count": 2,
   "metadata": {},
   "outputs": [],
   "source": [
    "# Define parameters\n",
    "x_numNodes=15\n",
    "y_numNodes=15\n",
    "start=(0,0)\n",
    "goal=(14,14)\n",
    "obs=((2,9),(7,4),(6,4),(5,4),(5,5),(5,6),(5,7),(5,8),(4,8),(3,8),(12,13),(13,13),(14,13))\n",
    "grid_node_unit=1\n",
    "\n",
    "# Define colors\n",
    "alpha=1\n",
    "edge_color='None'\n",
    "obs_color='gray'\n",
    "start_color='r'\n",
    "goal_color='b'\n",
    "checked_color='g'"
   ]
  },
  {
   "cell_type": "code",
   "execution_count": 9,
   "metadata": {},
   "outputs": [],
   "source": [
    "# Perform A* search\n",
    "\n",
    "# Find the eulidean distance between two nodes\n",
    "def dist(node1,node2):\n",
    "    d=np.sqrt((node1[0]-node2[0])**2+(node1[1]-node2[1])**2)\n",
    "    return d\n",
    "\n",
    "# Use heuristic of euclidean distance between current node and goal\n",
    "def h(node):\n",
    "    d=dist(node,goal)\n",
    "    return d\n",
    "\n",
    "# Find the neighbors of the node that is traversable\n",
    "def neighbor(node):\n",
    "    neighbor=[]\n",
    "#     adjacent_list=[-1,1]\n",
    "    adjacent_list=[-1,0,1]\n",
    "    # Check corners\n",
    "    for i in adjacent_list:\n",
    "        for j in adjacent_list:\n",
    "            check=(node[0]+i,node[1]+j)\n",
    "            #corner_sides=((node[0]+i,node[1]),(node[0],node[1]+j))\n",
    "            if check!=node and not check[0]<0 and not check[0]>x_numNodes-1 and not check[1]<0 and\\\n",
    "            not check[1]>y_numNodes-1 and not any([obstacle for obstacle in obs if check==obstacle]):# \\\n",
    "#             or corner_sides[0]==obstacle or corner_sides[1]==obstacle]):\n",
    "                neighbor.append(check)\n",
    "    \n",
    "#     for k in adjacent_list:\n",
    "#         check=((node[0]+k,node[1]),(node[0],node[1]+k))\n",
    "#         for n in check:\n",
    "#             if n!=node and not n[0]<0 and not n[0]>x_numNodes-1 and not n[1]<0 and\\\n",
    "#             not n[1]>y_numNodes-1 and not any([obstacle for obstacle in obs if n==obstacle]):\n",
    "#                 neighbor.append(n)\n",
    "    return neighbor\n",
    "\n",
    "# Use this function to sort list (imitation of priority queue)\n",
    "def sortSecond(open_node):\n",
    "    return open_node[1]\n",
    "\n",
    "# Create map that lists previous node of current node\n",
    "cameFrom=np.full((x_numNodes,y_numNodes),np.nan,dtype=(int,2))\n",
    "\n",
    "# G=euclidean distance traveled between nodes\n",
    "gCost=np.full((x_numNodes,y_numNodes),np.inf)\n",
    "gCost[start]=0\n",
    "\n",
    "# F=G+h\n",
    "fCost=np.full((x_numNodes,y_numNodes),np.inf)\n",
    "fCost[start]=h(start)\n",
    "\n",
    "openset=[(start,fCost[start])]\n",
    "closedset=[]\n",
    "\n",
    "while openset:\n",
    "    current=openset.pop(0)[0]\n",
    "    if current==goal:\n",
    "        break\n",
    "    closedset.append(current)\n",
    "    for n in neighbor(current):\n",
    "        if n in closedset:\n",
    "            continue\n",
    "        total_gCost=gCost[current]+dist(current,n)\n",
    "        if total_gCost<gCost[n]:\n",
    "            cameFrom[n]=current\n",
    "            gCost[n]=total_gCost\n",
    "            fCost[n]=total_gCost+h(n)\n",
    "            if not any(open_node for open_node in openset if open_node[0]==n):\n",
    "                openset.append((n,fCost[n]))\n",
    "                openset.sort(key=sortSecond)\n",
    "    if not openset:\n",
    "        print('Failure: Goal could not be reached')\n",
    "\n",
    "# Find the path from start to goal\n",
    "path=[]\n",
    "path.append(goal)\n",
    "reachedGoal=False\n",
    "while not reachedGoal:\n",
    "    prev=tuple(cameFrom[path[-1]])\n",
    "    path.append(prev)\n",
    "    if path[-1]==start:\n",
    "        reachedGoal=True\n",
    "path.reverse()"
   ]
  },
  {
   "cell_type": "code",
   "execution_count": 10,
   "metadata": {},
   "outputs": [
    {
     "data": {
      "image/png": "[encoded data removed]",
      "text/plain": [
       "<Figure size 480x666.64 with 1 Axes>"
      ]
     },
     "metadata": {
      "needs_background": "light"
     },
     "output_type": "display_data"
    }
   ],
   "source": [
    "# Draw a blank figure with a grid\n",
    "fig=plt.figure(figsize=(6,8.333),dpi=80)\n",
    "ax=fig.add_subplot(111,autoscale_on=False,xlim=(0,x_numNodes),ylim=(0,y_numNodes))\n",
    "ax.set_aspect('equal')\n",
    "grid=range(0,x_numNodes+1,grid_node_unit)\n",
    "ax.set_xticks(grid)\n",
    "ax.set_yticks(grid)\n",
    "\n",
    "# Color in the obstacle nodes\n",
    "obs_list=[]\n",
    "for i in obs:\n",
    "    rect=Patch.Rectangle(i,grid_node_unit,grid_node_unit)\n",
    "    obs_list.append(rect)\n",
    "pc=PatchCollection(obs_list,facecolor=obs_color,alpha=alpha,edgecolor=edge_color)\n",
    "ax.add_collection(pc)\n",
    "\n",
    "# Color in the checked nodes\n",
    "checked_node=[]\n",
    "for j in closedset:\n",
    "    rect=Patch.Rectangle(j,grid_node_unit,grid_node_unit)\n",
    "    checked_node.append(rect)\n",
    "pc=PatchCollection(checked_node,facecolor=checked_color,alpha=alpha,edgecolor=edge_color)\n",
    "ax.add_collection(pc)\n",
    "\n",
    "# Color in the start and goal nodes\n",
    "start_list, goal_list=[],[]\n",
    "start_list.append(Patch.Rectangle((start),1,1))\n",
    "goal_list.append(Patch.Rectangle((goal),grid_node_unit,grid_node_unit))\n",
    "pc=PatchCollection(start_list,facecolor=start_color,alpha=alpha,edgecolor=edge_color)\n",
    "ax.add_collection(pc)\n",
    "pc=PatchCollection(goal_list,facecolor=goal_color,alpha=alpha,edgecolor=edge_color)\n",
    "ax.add_collection(pc)\n",
    "\n",
    "# Draw the final path\n",
    "path_label=Lines.Line2D([],[],color='orange',label='Path')\n",
    "ax.plot([x[0]+0.5 for x in path],[y[1]+0.5 for y in path],'-',color='orange')\n",
    "\n",
    "plt.grid(True)\n",
    "obs_patch=Patch.Patch(color=obs_color,label='Obstacle')\n",
    "start_patch=Patch.Patch(color=start_color,label='Start')\n",
    "goal_patch=Patch.Patch(color=goal_color,label='Goal')\n",
    "checked_patch=Patch.Patch(color=checked_color,label='Checked Nodes')\n",
    "ax.legend(handles=[obs_patch,start_patch,goal_patch,checked_patch,path_label],bbox_to_anchor=(1.1,1))\n",
    "plt.show()"
   ]
  },
  {
   "cell_type": "code",
   "execution_count": 11,
   "metadata": {},
   "outputs": [
    {
     "name": "stdout",
     "output_type": "stream",
     "text": [
      "Start: (0, 0), Goal: (14, 14)\n",
      "Number of nodes checked: 128\n",
      "Path distance: 23.3137\n"
     ]
    }
   ],
   "source": [
    "total=0\n",
    "for j in range(len(path)-1):\n",
    "    total+=dist(path[j],path[j+1])\n",
    "print(\"Start: {0}, Goal: {1}\".format(start,goal))\n",
    "print(\"Number of nodes checked: {0:1}\".format(len(closedset)))\n",
    "print(\"Path distance: {0:2.4f}\".format(total))"
   ]
  }
 ],
 "metadata": {
  "kernelspec": {
   "display_name": "Python 3",
   "language": "python",
   "name": "python3"
  },
  "language_info": {
   "codemirror_mode": {
    "name": "ipython",
    "version": 3
   },
   "file_extension": ".py",
   "mimetype": "text/x-python",
   "name": "python",
   "nbconvert_exporter": "python",
   "pygments_lexer": "ipython3",
   "version": "3.7.1"
  }
 },
 "nbformat": 4,
 "nbformat_minor": 2
}
