{
 "cells": [
  {
   "cell_type": "code",
   "execution_count": 1,
   "metadata": {},
   "outputs": [],
   "source": [
    "import numpy as np\n",
    "import matplotlib.pyplot as plt\n",
    "import pyomo.environ as pyo\n",
    "import pyomo.dae as dae"
   ]
  },
  {
   "cell_type": "code",
   "execution_count": null,
   "metadata": {},
   "outputs": [],
   "source": [
    "# Define parameters\n",
    "g=9.81\n",
    "m1,m2=1,1\n",
    "L1,L2=1,1\n",
    "tf=10\n",
    "dt=0.05\n",
    "\n",
    "# Set initial and final values\n",
    "th1_init=0\n",
    "th2_init=0\n",
    "om1_init=0\n",
    "om2_init=0\n",
    "th1_fin=np.pi\n",
    "th2_fin=np.pi\n",
    "om1_fin=0\n",
    "om2_fin=0\n",
    "dom1dt_fin=0\n",
    "dom2dt_fin=0\n",
    "\n",
    "# Define the limits\n",
    "om_max=4\n",
    "u_max=5"
   ]
  },
  {
   "cell_type": "code",
   "execution_count": null,
   "metadata": {},
   "outputs": [],
   "source": [
    "# Create model\n",
    "model=pyo.ConcreteModel()\n",
    "\n",
    "# Define the time\n",
    "model.t=dae.ContinuousSet(bounds=(0,tf))\n",
    "\n",
    "# model.N=pyo.Set(dimen=2)    # Number of joints\n",
    "\n",
    "# Define variables\n",
    "model.th1=pyo.Var(model.t)\n",
    "model.th2=pyo.Var(model.t)\n",
    "\n",
    "\n",
    "# Define the derivatives\n",
    "model.om1=dae.DerivativeVar(model.th1,wrt=model.t)\n",
    "model.om2=dae.DerivativeVar(model.th2,wrt=model.t)\n",
    "model.dom1dt=dae.DerivativeVar(model.om1,wrt=model.t)\n",
    "model.dom2dt=dae.DerivativeVar(model.om2,wrt=model.t)\n",
    "\n",
    "# Define initial conditions\n",
    "model.con=pyo.ConstraintList()\n",
    "model.con.add(th1[0]==th1_init)\n",
    "model.con.add(th2[0]==th2_init)\n",
    "model.con.add(om1[0]==om1_init)\n",
    "model.con.add(om2[0]==om2_init)\n",
    "\n",
    "# Define final conditions\n",
    "model.con.add(th1[tf]==th1_fin)\n",
    "model.con.add(th2[tf]==th2_fin)\n",
    "model.con.add(om1[tf]==om1_fin)\n",
    "model.con.add(om2[tf]==om2_fin)\n",
    "model.con.add(dom1dt[tf]==dom1dt_fin)\n",
    "model.con.add(dom2dt[tf]==dom2dt_fin)\n",
    "\n",
    "# Define the ode\n",
    "model.ode1\n",
    "model.ode2\n",
    "\n",
    "\n",
    "# Define the objective \n",
    "model.integral=pyo.Integral(model.t,wrt=model.t,rule=lambda model,t: model.u[t]**2)\n",
    "model.obj=pyo.Objective(expr=model.integral)"
   ]
  }
 ],
 "metadata": {
  "kernelspec": {
   "display_name": "Python 3",
   "language": "python",
   "name": "python3"
  },
  "language_info": {
   "codemirror_mode": {
    "name": "ipython",
    "version": 3
   },
   "file_extension": ".py",
   "mimetype": "text/x-python",
   "name": "python",
   "nbconvert_exporter": "python",
   "pygments_lexer": "ipython3",
   "version": "3.7.1"
  }
 },
 "nbformat": 4,
 "nbformat_minor": 2
}
